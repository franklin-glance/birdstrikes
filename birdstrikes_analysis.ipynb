{
 "cells": [
  {
   "cell_type": "code",
   "execution_count": null,
   "metadata": {},
   "outputs": [],
   "source": [
    "import numpy as np\n",
    "import pandas as pd\n",
    "import matplotlib.pyplot as plt\n",
    "import seaborn as sns\n",
    "from statsmodels.stats.multicomp import pairwise_tukeyhsd\n",
    "import scipy.stats as stats\n",
    "\n",
    "plt.rcParams['figure.figsize'] = [5,5]\n",
    "sns.set_theme(style=\"darkgrid\")"
   ]
  },
  {
   "cell_type": "code",
   "execution_count": null,
   "metadata": {
    "collapsed": false
   },
   "outputs": [],
   "source": [
    "\n",
    "df = pd.read_csv('data.csv')\n",
    "\n",
    "aircraft_types_key = {\n",
    "'A': 'Airplane',\n",
    "'B': 'Helicopter',\n",
    "'C': 'Glider',\n",
    "'D': 'Balloon',\n",
    "'F': 'Dirigible',\n",
    "'I': 'Gyroplane',\n",
    "'J': 'Ultralight',\n",
    "'Y': 'Other',\n",
    "'Z': 'Unknown'\n",
    "}\n",
    "# drop rows where INCIDENT_YEAR < 2012\n",
    "\n",
    "df = df[df['INCIDENT_YEAR'] >= 2012]\n",
    "\n",
    "print(len(df))\n",
    "\n",
    "col_mapping = pd.read_csv('column_mapping.csv')\n",
    "\n",
    "airports_info = pd.read_csv('airports.csv')\n",
    "\n",
    "df['AC_CLASS'] = df['AC_CLASS'].str.strip()\n",
    "\n",
    "mass_map = {\n",
    "    1.0 : \"2,250 kg or less\",\n",
    "    2.0 : \"2,251 - 5,700 kg\",\n",
    "    3.0 : \"5,701 - 27,000 kg\",\n",
    "    4.0 : \"27,001 - 272,000 kg\",\n",
    "    5.0 : \"above 272,000 kg\",\n",
    "}\n",
    "\n",
    "engine_position_map = {\n",
    "    1.0 : \"Engine mounted below the wing\",\n",
    "    2.0 : \"Engine mounted above the wing\",\n",
    "    3.0 : \"Engine is an integral part of the wing root\",\n",
    "    4.0 : \"Engine is nacelle-mounted on the wing (i.e. piston or turboprop)\",\n",
    "    5.0 : \"Engine is mounted on the aft fuselage\",\n",
    "    6.0 : \"Engine is in the empennage (helicopters)\",\n",
    "    7.0 : \"Engine mounted at the intake of the nose\",\n",
    "}\n",
    "\n",
    "type_eng_map = {\n",
    "    'A' : \"Reciprocating engine (piston)\",\n",
    "    'B' : \"Turbojet\",\n",
    "    'C' : \"Turboprop\",\n",
    "    'D' : \"Turbofan\",\n",
    "    'E' : \"None (glider)\",\n",
    "    'F' : \"Turboshaft (helicopter)\",\n",
    "    'Y' : \"Other\",\n",
    "}\n",
    "\n",
    "df.TYPE_ENG = df.TYPE_ENG.map(type_eng_map)\n",
    "\n",
    "\n",
    "class_map = {\n",
    "    'A' : 'Airplane',\n",
    "    'B' : 'Helicopter',\n",
    "    'C' : 'Glider',\n",
    "    'D' : 'Balloon',\n",
    "    'F' : 'Dirigible',\n",
    "    'I' : 'Gyroplane',\n",
    "    'J' : 'Ultralight',\n",
    "    'Y' : 'Other',\n",
    "    'Z' : 'Unknown',\n",
    "}\n",
    "\n",
    "df.AC_CLASS = df.AC_CLASS.map(class_map)\n",
    "\n",
    "irrelevant_cols = [\n",
    "    'INDEX_NR',\n",
    "    'INCIDENT_DATE',\n",
    "    'OPID', # operator id\n",
    "    'REG',\n",
    "    'AMA',\n",
    "    'AMO',\n",
    "    'EMA', # engine make\n",
    "    'EMO', # engine model\n",
    "    'COST_REPAIRS_INFL_ADJ',\n",
    "    'COST_OTHER_INFL_ADJ',\n",
    "    'EFFECT_OTHER',\n",
    "    'OTHER_SPECIFY',\n",
    "    'EFFECT_OTHER',\n",
    "    'BIRD_BAND_NUMBER',\n",
    "    'REMARKS',\n",
    "    'REMAINS_COLLECTED',\n",
    "    'REMAINS_SENT',\n",
    "    'COMMENTS',\n",
    "    'REPORTED_NAME',\n",
    "    'REPORTED_TITLE',\n",
    "    'SOURCE',\n",
    "    'PERSON',\n",
    "    'LUPDATE',\n",
    "    'TRANSFER',\n",
    "    'RUNWAY',\n",
    "]\n",
    "\n",
    "# df['IS_SPRING'] = df['INCIDENT_MONTH'].apply(lambda x: 1 if x in [3, 4, 5] else 0)\n",
    "# df['IS_SUMMER'] = df['INCIDENT_MONTH'].apply(lambda x: 1 if x in [6, 7, 8] else 0)\n",
    "# df['IS_FALL'] = df['INCIDENT_MONTH'].apply(lambda x: 1 if x in [9, 10, 11] else 0)\n",
    "# df['IS_WINTER'] = df['INCIDENT_MONTH'].apply(lambda x: 1 if x in [12, 1, 2] else 0)\n",
    "df['TIME_OF_YEAR'] = df['INCIDENT_MONTH'].apply(lambda x: 'Spring' if x in [3, 4, 5] else ('Summer' if x in [6, 7, 8] else ('Fall' if x in [9, 10, 11] else 'Winter')))\n",
    "\n",
    "df.AC_MASS = df.AC_MASS.map(mass_map)\n",
    "\n",
    "df.ENG_1_POS = df.ENG_1_POS.map(engine_position_map)\n",
    "df.ENG_2_POS = df.ENG_2_POS.map(engine_position_map)\n",
    "df.ENG_3_POS = df.ENG_3_POS.map(engine_position_map)\n",
    "df.ENG_4_POS = df.ENG_4_POS.map(engine_position_map)\n",
    "\n",
    "# df = df.drop(columns=irrelevant_cols)\n",
    "\n",
    "\n",
    "all_map = {\n",
    "    'STR_RAD' : 'Struck Radome',\n",
    "    'DAM_RAD' : 'Damaged Radome',\n",
    "    'STR_WINDSHLD' : 'Struck Windshield',\n",
    "    'DAM_WINDSHLD' : 'Damaged Windshield',\n",
    "    'STR_NOSE' : 'Struck Nose',\n",
    "    'DAM_NOSE' : 'Damaged Nose',\n",
    "    'STR_ENG1' : 'Struck Engine 1',\n",
    "    'DAM_ENG1' : 'Damaged Engine 1',\n",
    "    'ING_ENG1' : 'Ingested Engine 1',\n",
    "    'STR_ENG2' : 'Struck Engine 2',\n",
    "    'DAM_ENG2' : 'Damaged Engine 2',\n",
    "    'ING_ENG2' : 'Ingested Engine 2',\n",
    "    'STR_ENG3' : 'Struck Engine 3',\n",
    "    'DAM_ENG3' : 'Damaged Engine 3',\n",
    "    'ING_ENG3' : 'Ingested Engine 3',\n",
    "    'STR_ENG4' : 'Struck Engine 4',\n",
    "    'DAM_ENG4' : 'Damaged Engine 4',\n",
    "    'ING_ENG4' : 'Ingested Engine 4',\n",
    "    'INGESTED_OTHER' : 'Ingested Other',\n",
    "    'STR_PROP' : 'Struck Propeller',\n",
    "    'DAM_PROP' : 'Damaged Propeller',\n",
    "    'STR_WING_ROT' : 'Struck Wing or Rotor',\n",
    "    'DAM_WING_ROT' : 'Damaged Wing or Rotor',\n",
    "    'STR_FUSE' : 'Struck Fuselage',\n",
    "    'DAM_FUSE' : 'Damaged Fuselage',\n",
    "    'STR_LG' : 'Struck Landing Gear',\n",
    "    'DAM_LG' : 'Damaged Landing Gear',\n",
    "    'STR_TAIL' : 'Struck Tail',\n",
    "    'DAM_TAIL' : 'Damaged Tail',\n",
    "    'STR_LGHTS' : 'Struck Lights',\n",
    "    'DAM_LGHTS' : 'Damaged Lights',\n",
    "    'STR_OTHER' : 'Struck Other',\n",
    "    'DAM_OTHER' : 'Damaged Other',\n",
    "}\n",
    "dam_map = {\n",
    "    'DAM_RAD' : 'Damaged Radome',\n",
    "    'DAM_WINDSHLD' : 'Damaged Windshield',\n",
    "    'DAM_NOSE' : 'Damaged Nose',\n",
    "    'DAM_ENG1' : 'Damaged Engine 1',\n",
    "    'DAM_ENG2' : 'Damaged Engine 2',\n",
    "    'DAM_ENG3' : 'Damaged Engine 3',\n",
    "    'DAM_ENG4' : 'Damaged Engine 4',\n",
    "    'DAM_PROP' : 'Damaged Propeller',\n",
    "    'DAM_WING_ROT' : 'Damaged Wing or Rotor',\n",
    "    'DAM_FUSE' : 'Damaged Fuselage',\n",
    "    'DAM_LG' : 'Damaged Landing Gear',\n",
    "    'DAM_TAIL' : 'Damaged Tail',\n",
    "    'DAM_LGHTS' : 'Damaged Lights',\n",
    "    'DAM_OTHER' : 'Damaged Other',\n",
    "}\n",
    "struck_map = {\n",
    "    'STR_RAD' : 'Struck Radome',\n",
    "    'STR_WINDSHLD' : 'Struck Windshield',\n",
    "    'STR_NOSE' : 'Struck Nose',\n",
    "    'STR_ENG1' : 'Struck Engine 1',\n",
    "    'STR_ENG2' : 'Struck Engine 2',\n",
    "    'STR_ENG3' : 'Struck Engine 3',\n",
    "    'STR_ENG4' : 'Struck Engine 4',\n",
    "    'STR_PROP' : 'Struck Propeller',\n",
    "    'STR_WING_ROT' : 'Struck Wing or Rotor',\n",
    "    'STR_FUSE' : 'Struck Fuselage',\n",
    "    'STR_LG' : 'Struck Landing Gear',\n",
    "    'STR_TAIL' : 'Struck Tail',\n",
    "    'STR_LGHTS' : 'Struck Lights',\n",
    "    'STR_OTHER' : 'Struck Other',\n",
    "}\n",
    "\n",
    "ingested_map = {\n",
    "    'ING_ENG1' : 'Ingested Engine 1',\n",
    "    'ING_ENG2' : 'Ingested Engine 2',\n",
    "    'ING_ENG3' : 'Ingested Engine 3',\n",
    "    'ING_ENG4' : 'Ingested Engine 4',\n",
    "    'INGESTED_OTHER' : 'Ingested Other',\n",
    "}\n",
    "\n",
    "\n",
    "def struck_str(row):\n",
    "    struck_str = ''\n",
    "    for key, value in struck_map.items():\n",
    "        if row[key] == 1:\n",
    "            struck_str += value + ', '\n",
    "    return struck_str[:-2] if struck_str != '' else 'None'\n",
    "\n",
    "def dam_str(row):\n",
    "    dam_str = ''\n",
    "    for key, value in dam_map.items():\n",
    "        if row[key] == 1:\n",
    "            dam_str += value + ', '\n",
    "    return dam_str[:-2] if dam_str != '' else 'None'\n",
    "\n",
    "def ingested_str(row):\n",
    "    ingested_str = ''\n",
    "    for key, value in ingested_map.items():\n",
    "        if row[key] == 1:\n",
    "            ingested_str += value + ', '\n",
    "    return ingested_str[:-2] if ingested_str != '' else 'None'\n",
    "\n",
    "def all_str(row):\n",
    "    all_str = ''\n",
    "    for key, value in all_map.items():\n",
    "        if row[key] == 1:\n",
    "            all_str += value + ', '\n",
    "    return all_str[:-2] if all_str != '' else 'None'\n",
    "\n",
    "df['ALL_RESULT'] = df.apply(all_str, axis=1)\n",
    "df['STRUCK_RESULT'] = df.apply(struck_str, axis=1)\n",
    "df['DAM_RESULT'] = df.apply(dam_str, axis=1)\n",
    "df['INGESTED_RESULT'] = df.apply(ingested_str, axis=1)\n",
    "damage_map = {\n",
    "    'N' : 'None',\n",
    "    'M' : 'Minor',\n",
    "    'M?' : 'Uncertain Level',\n",
    "    'S' : 'Substantial',\n",
    "    'D' : 'Destroyed',\n",
    "}\n",
    "\n",
    "df['DAMAGE'] = df['DAMAGE_LEVEL'].map(damage_map)\n",
    "\n",
    "# drop all the columns we don't need anymore\n",
    "df.drop(columns=all_map.keys(), inplace=True)\n",
    "\n",
    "df.drop(columns=['DAMAGE_LEVEL'], inplace=True)\n",
    "\n",
    "\n",
    "df.DAMAGE.value_counts()\n",
    "\n",
    "# remove K from airport ID\n",
    "df['AIRPORT_ID'] = df['AIRPORT_ID'].str[1:]\n",
    "\n",
    "\n",
    "\n"
   ]
  },
  {
   "cell_type": "markdown",
   "metadata": {
    "collapsed": false
   },
   "source": [
    "## Adding data on airport traffic"
   ]
  },
  {
   "cell_type": "code",
   "execution_count": null,
   "metadata": {},
   "outputs": [],
   "source": [
    "# set avg_yearly INCIDENT_YEAR to datetime\n",
    "df['INCIDENT_YEAR'] = pd.to_datetime(df['INCIDENT_YEAR'], format='%Y')"
   ]
  },
  {
   "cell_type": "code",
   "execution_count": null,
   "metadata": {},
   "outputs": [],
   "source": [
    "# download from: https://www.kaggle.com/datasets/sherrytp/airline-delay-analysis\n",
    "\n",
    "flights_2012 = pd.read_csv('./flightdata/2012.csv')\n",
    "flights_2013 = pd.read_csv('./flightdata/2013.csv')\n",
    "flights_2014 = pd.read_csv('./flightdata/2014.csv')\n",
    "flights_2015 = pd.read_csv('./flightdata/2015.csv')\n",
    "flights_2016 = pd.read_csv('./flightdata/2016.csv')\n",
    "flights_2017 = pd.read_csv('./flightdata/2017.csv')\n",
    "flights_2018 = pd.read_csv('./flightdata/2018.csv')\n",
    "flights_2019 = pd.read_csv('./flightdata/2019.csv')\n"
   ]
  },
  {
   "cell_type": "code",
   "execution_count": null,
   "metadata": {},
   "outputs": [],
   "source": [
    "\n",
    "flights_all = pd.concat([flights_2012, flights_2013, flights_2014, flights_2015, flights_2016, flights_2017, flights_2018, flights_2019])\n"
   ]
  },
  {
   "cell_type": "code",
   "execution_count": null,
   "metadata": {},
   "outputs": [],
   "source": [
    "flights_all['YEAR'] = flights_all.FL_DATE.str[:4]\n",
    "flights_all['DATE'] = flights_all['FL_DATE']\n",
    "flights_all['YEAR'] = pd.to_datetime(flights_all['YEAR'], format='%Y')\n",
    "flights_all['DATE'] = pd.to_datetime(flights_all['DATE'], format='%Y-%m-%d')\n"
   ]
  },
  {
   "cell_type": "code",
   "execution_count": null,
   "metadata": {},
   "outputs": [],
   "source": [
    "# make date just year and month\n",
    "flights_all['DATE'] = flights_all['DATE'].dt.to_period('M')\n",
    "flights_all['DATE'].unique()"
   ]
  },
  {
   "cell_type": "code",
   "execution_count": null,
   "metadata": {},
   "outputs": [],
   "source": [
    "flights_all['YEAR'] = flights_all['YEAR'].dt.year\n",
    "flights_all.YEAR.unique()"
   ]
  },
  {
   "cell_type": "code",
   "execution_count": null,
   "metadata": {},
   "outputs": [],
   "source": [
    "flights_all_dep_yearly = flights_all.groupby(['ORIGIN', 'YEAR']).size().reset_index(name='counts')\n",
    "flights_all_arr_yearly = flights_all.groupby(['DEST', 'YEAR']).size().reset_index(name='counts')\n",
    "\n",
    "flights_all_dep_monthly = flights_all.groupby(['ORIGIN', 'DATE']).size().reset_index(name='counts')\n",
    "flights_all_arr_monthly = flights_all.groupby(['DEST', 'DATE']).size().reset_index(name='counts')"
   ]
  },
  {
   "cell_type": "code",
   "execution_count": null,
   "metadata": {},
   "outputs": [],
   "source": [
    "flights_all_dep_monthly.head(10)"
   ]
  },
  {
   "cell_type": "code",
   "execution_count": null,
   "metadata": {},
   "outputs": [],
   "source": [
    "flights_all_dep_yearly['Location'] = flights_all_dep_yearly['ORIGIN']\n",
    "flights_all_arr_yearly['Location'] = flights_all_arr_yearly['DEST']\n",
    "flights_all_dep_yearly['Departures'] = flights_all_dep_yearly['counts']\n",
    "flights_all_arr_yearly['Arrivals'] = flights_all_arr_yearly['counts']\n",
    "flights_all_dep_yearly.drop(columns=['ORIGIN', 'counts'], inplace=True)\n",
    "flights_all_arr_yearly.drop(columns=['DEST', 'counts'], inplace=True)\n",
    "\n",
    "flights_all_dep_monthly['Location'] = flights_all_dep_monthly['ORIGIN']\n",
    "flights_all_arr_monthly['Location'] = flights_all_arr_monthly['DEST']\n",
    "flights_all_dep_monthly['DEP_MONTHLY'] = flights_all_dep_monthly['counts']\n",
    "flights_all_arr_monthly['ARR_MONTHLY'] = flights_all_arr_monthly['counts']\n",
    "flights_all_dep_monthly.drop(columns=['ORIGIN', 'counts'], inplace=True)\n",
    "flights_all_arr_monthly.drop(columns=['DEST', 'counts'], inplace=True)\n",
    "\n",
    "flights_all_monthly = pd.merge(flights_all_arr_monthly, flights_all_dep_monthly, on=['Location', 'DATE'], how='outer')\n",
    "\n",
    "flights_all_yearly = pd.merge(flights_all_arr_yearly, flights_all_dep_yearly, on=['Location', 'YEAR'], how='outer')"
   ]
  },
  {
   "cell_type": "code",
   "execution_count": null,
   "metadata": {},
   "outputs": [],
   "source": [
    "flights_all_monthly.head()"
   ]
  },
  {
   "cell_type": "code",
   "execution_count": null,
   "metadata": {},
   "outputs": [],
   "source": [
    "flights_all_yearly['AIRPORT_ID'] = flights_all_yearly['Location']\n",
    "flights_all_yearly.drop(columns=['Location'], inplace=True)\n",
    "flights_all_yearly['INCIDENT_YEAR'] = flights_all_yearly['YEAR']\n",
    "flights_all_yearly.drop(columns=['YEAR'], inplace=True)\n",
    "flights_all_yearly['Total'] = flights_all_yearly['Arrivals'] + flights_all_yearly['Departures']\n",
    "flights_all_yearly['Total'] = flights_all_yearly['Total'].fillna(0)\n",
    "flights_all_yearly['Arrivals'] = flights_all_yearly['Arrivals'].fillna(0)\n",
    "flights_all_yearly['Departures'] = flights_all_yearly['Departures'].fillna(0)\n",
    "flights_all_yearly['Total'] = flights_all_yearly['Total'].astype(int)\n",
    "flights_all_yearly['Arrivals'] = flights_all_yearly['Arrivals'].astype(int)\n",
    "flights_all_yearly['Departures'] = flights_all_yearly['Departures'].astype(int)\n",
    "\n",
    "flights_all_monthly['AIRPORT_ID'] = flights_all_monthly['Location']\n",
    "flights_all_monthly.drop(columns=['Location'], inplace=True)\n",
    "flights_all_monthly['TOTAL_MONTHLY'] = flights_all_monthly['ARR_MONTHLY'] + flights_all_monthly['DEP_MONTHLY'] \n",
    "flights_all_monthly['TOTAL_MONTHLY'] = flights_all_monthly['TOTAL_MONTHLY'].fillna(0)\n",
    "flights_all_monthly['ARR_MONTHLY'] = flights_all_monthly['ARR_MONTHLY'].fillna(0) \n",
    "flights_all_monthly['DEP_MONTHLY'] = flights_all_monthly['DEP_MONTHLY'].fillna(0) \n",
    "flights_all_monthly['TOTAL_MONTHLY'] = flights_all_monthly['TOTAL_MONTHLY'].astype(int)\n",
    "flights_all_monthly['ARR_MONTHLY'] = flights_all_monthly['ARR_MONTHLY'].astype(int) \n",
    "flights_all_monthly['DEP_MONTHLY'] = flights_all_monthly['DEP_MONTHLY'].astype(int)\n"
   ]
  },
  {
   "cell_type": "code",
   "execution_count": null,
   "metadata": {},
   "outputs": [],
   "source": [
    "\n",
    "# date format: Month/Day/Year\n",
    "df.INCIDENT_DATE = pd.to_datetime(df.INCIDENT_DATE, format='%m/%d/%y')\n",
    "df.INCIDENT_DATE.unique()"
   ]
  },
  {
   "cell_type": "code",
   "execution_count": null,
   "metadata": {},
   "outputs": [],
   "source": [
    "df['INCIDENT_DATE_MONTHLY'] = df.INCIDENT_DATE.dt.to_period('M')"
   ]
  },
  {
   "cell_type": "code",
   "execution_count": null,
   "metadata": {},
   "outputs": [],
   "source": [
    "df.INCIDENT_DATE_MONTHLY.unique()"
   ]
  },
  {
   "cell_type": "code",
   "execution_count": null,
   "metadata": {},
   "outputs": [],
   "source": [
    "flights_all_monthly.DATE.unique()"
   ]
  },
  {
   "cell_type": "code",
   "execution_count": null,
   "metadata": {},
   "outputs": [],
   "source": [
    "flights_all_yearly.INCIDENT_YEAR = pd.to_datetime(flights_all_yearly.INCIDENT_YEAR, format='%Y')\n",
    "df.INCIDENT_YEAR = pd.to_datetime(df.INCIDENT_YEAR, format='%Y')\n",
    "df.INCIDENT_MONTH = pd.to_datetime(df.INCIDENT_MONTH, format='%Y-%m')"
   ]
  },
  {
   "cell_type": "code",
   "execution_count": null,
   "metadata": {},
   "outputs": [],
   "source": [
    "df_flights = pd.merge(df, flights_all_yearly, on=['AIRPORT_ID', 'INCIDENT_YEAR'], how='left')"
   ]
  },
  {
   "cell_type": "code",
   "execution_count": null,
   "metadata": {},
   "outputs": [],
   "source": [
    "df_flights.INCIDENT_YEAR = pd.to_datetime(df_flights.INCIDENT_YEAR, format='%Y')\n"
   ]
  },
  {
   "cell_type": "code",
   "execution_count": null,
   "metadata": {},
   "outputs": [],
   "source": [
    "df_flights['INCIDENT_YEAR'] = df_flights['INCIDENT_YEAR'].dt.year\n"
   ]
  },
  {
   "cell_type": "code",
   "execution_count": null,
   "metadata": {},
   "outputs": [],
   "source": [
    "\n",
    "df_flights.INCIDENT_YEAR.unique()"
   ]
  },
  {
   "cell_type": "code",
   "execution_count": null,
   "metadata": {},
   "outputs": [],
   "source": [
    "flights_all_monthly['INCIDENT_DATE_MONTHLY'] = flights_all_monthly['DATE']\n",
    "flights_all_monthly.drop(columns=['DATE'], inplace=True)\n"
   ]
  },
  {
   "cell_type": "code",
   "execution_count": null,
   "metadata": {},
   "outputs": [],
   "source": [
    "df_flights2 = pd.merge(df_flights, flights_all_monthly, on=['AIRPORT_ID', 'INCIDENT_DATE_MONTHLY'], how='left')"
   ]
  },
  {
   "cell_type": "code",
   "execution_count": null,
   "metadata": {},
   "outputs": [],
   "source": [
    "df_flights2.INCIDENT_MONTH = df_flights2.INCIDENT_MONTH.dt.month"
   ]
  },
  {
   "cell_type": "code",
   "execution_count": null,
   "metadata": {},
   "outputs": [],
   "source": [
    "df_flights2.head()"
   ]
  },
  {
   "cell_type": "markdown",
   "metadata": {
    "collapsed": false
   },
   "source": [
    "## Determining the type of aircraft that has the most incidents\n",
    "\n"
   ]
  },
  {
   "cell_type": "code",
   "execution_count": null,
   "metadata": {
    "collapsed": false
   },
   "outputs": [],
   "source": [
    "df = df_flights2"
   ]
  },
  {
   "cell_type": "markdown",
   "metadata": {
    "collapsed": false
   },
   "source": [
    "### Determining which airports have the most incidents\n",
    "\n",
    "We can see that KDEN (Denver International Airport) has the most incidents, followed by KDFW (Dallas/Fort Worth International Airport) and KORD (Chicago O'Hare International Airport).\n",
    "These locations are a good place to start our analysis.\n"
   ]
  },
  {
   "cell_type": "code",
   "execution_count": null,
   "metadata": {},
   "outputs": [],
   "source": [
    "flights_all_monthly['MONTH'] = flights_all_monthly['INCIDENT_DATE_MONTHLY'].dt.month"
   ]
  },
  {
   "cell_type": "code",
   "execution_count": null,
   "metadata": {},
   "outputs": [],
   "source": [
    "flights_all_monthly.head()"
   ]
  },
  {
   "cell_type": "code",
   "execution_count": null,
   "metadata": {
    "collapsed": false
   },
   "outputs": [],
   "source": [
    "# plot top 20 airports by number of incidents\n",
    "df[df.AIRPORT_ID != 'ZZZZ'].AIRPORT_ID.value_counts().head(10).plot(kind='bar')\n",
    "plt.xlabel('Airport ID')\n",
    "plt.ylabel('Number of Incidents')\n",
    "plt.title('Top 10 Airports by Number of Incidents')\n",
    "plt.show()\n",
    "n = 5\n",
    "# top_airports = df[df.AIRPORT_ID != 'ZZZ'].AIRPORT_ID.value_counts().head(n).index.tolist()\n",
    "top_airports = ['DEN', 'DFW', 'CLT', 'ORD', 'IAH']\n",
    "print(f'Top {n} airports: {top_airports}')\n",
    "\n",
    "df_airports = df[df.AIRPORT_ID.isin(top_airports)]\n",
    "# avg_yearly_airports = avg_yearly[avg_yearly.AIRPORT_ID.isin(top_airports)]\n",
    "avg_yearly_airports = flights_all_yearly[flights_all_yearly.AIRPORT_ID.isin(top_airports)]\n",
    "\n",
    "avg_monthly_airports = flights_all_monthly[flights_all_monthly.AIRPORT_ID.isin(top_airports)]\n",
    "\n",
    "\n",
    "df_airports.AIRPORT_ID.value_counts().plot(kind='bar')\n",
    "plt.xlabel('Airport ID')\n",
    "plt.ylabel('Number of Incidents')\n",
    "plt.title(f'Top {n} Airports by Number of Incidents')\n",
    "plt.show()\n",
    "\n",
    "\n",
    "# plot top 20 species by number of incidents\n",
    "# df_airports.SPECIES.value_counts().head(20).plot(kind='bar')\n",
    "# plt.xlabel('Species')\n",
    "# plt.ylabel('Number of Incidents')\n",
    "# plt.title('Top 20 Species by Number of Incidents')\n",
    "# plt.show()\n"
   ]
  },
  {
   "cell_type": "code",
   "execution_count": null,
   "metadata": {},
   "outputs": [],
   "source": []
  },
  {
   "cell_type": "code",
   "execution_count": null,
   "metadata": {},
   "outputs": [],
   "source": [
    "plt.rcParams['figure.figsize'] = [10, 5]\n",
    "# top 10 airports by number of total flights\n",
    "top10_airports = flights_all_yearly.groupby('AIRPORT_ID').Total.sum().sort_values(ascending=False).head(10).index.tolist()\n",
    "top10_airports_flights = flights_all_yearly[flights_all_yearly.AIRPORT_ID.isin(top10_airports)]\n",
    "top10_airports_flights.groupby('AIRPORT_ID').Total.sum().sort_values(ascending=False).plot(kind='bar')"
   ]
  },
  {
   "cell_type": "code",
   "execution_count": null,
   "metadata": {},
   "outputs": [],
   "source": [
    "top10_airports_flights = top10_airports_flights.groupby('AIRPORT_ID').Total.sum().sort_values(ascending=False)"
   ]
  },
  {
   "cell_type": "code",
   "execution_count": null,
   "metadata": {},
   "outputs": [],
   "source": [
    "top10_airports_incidents = df[df.AIRPORT_ID.isin(top10_airports)].value_counts('AIRPORT_ID')\n",
    "# plto top10_airports_incidents and top10_airports_flights"
   ]
  },
  {
   "cell_type": "code",
   "execution_count": null,
   "metadata": {},
   "outputs": [],
   "source": [
    "top10df = pd.DataFrame({'Incidents': top10_airports_incidents, 'Flights': top10_airports_flights})\n",
    "\n",
    "top10df['Proportion'] = top10df['Incidents'] / top10df['Flights']\n",
    "\n",
    "top10df['Proportion'].sort_values(ascending=False).plot(kind='bar')\n",
    "plt.title('Proportion of Incidents to Flights')\n",
    "plt.xlabel('Airport ID')\n",
    "plt.ylabel('Proportion')\n",
    "plt.show()"
   ]
  },
  {
   "cell_type": "code",
   "execution_count": null,
   "metadata": {},
   "outputs": [],
   "source": [
    "\n",
    "\n",
    "flights_all_yearly.groupby('AIRPORT_ID').Total.sum().sort_values(ascending=False).head(10).plot(kind='bar')\n",
    "# plot the number of incidents for each airport\n",
    "plt.xlabel('Airport ID')\n",
    "plt.ylabel('Number of Flights')\n",
    "plt.title('Top 10 Airports by Number of Flights')\n",
    "# make x ticks horizontal\n",
    "plt.xticks(rotation=0)\n",
    "plt.show()\n",
    "\n"
   ]
  },
  {
   "cell_type": "code",
   "execution_count": null,
   "metadata": {},
   "outputs": [],
   "source": [
    "# top 10 airports by average yearly number of flights\n",
    "flights_all_yearly.groupby('AIRPORT_ID').Total.mean().sort_values(ascending=False).head(10).plot(kind='bar')\n",
    "plt.xlabel('Airport ID')\n",
    "plt.ylabel('Number of Flights')\n",
    "plt.title('Top 10 Airports by Average Yearly Number of Flights')\n",
    "# make x ticks horizontal\n",
    "plt.xticks(rotation=0)\n",
    "plt.show()"
   ]
  },
  {
   "cell_type": "code",
   "execution_count": null,
   "metadata": {
    "collapsed": false
   },
   "outputs": [],
   "source": [
    "# year at all airports\n",
    "sns.displot(df_airports, x='INCIDENT_YEAR', kind='kde', fill=True, aspect=2)\n",
    "plt.xlabel('Year')\n",
    "plt.ylabel('Count')\n",
    "plt.title(f'Incidents by Year at All Airports')"
   ]
  },
  {
   "cell_type": "code",
   "execution_count": null,
   "metadata": {},
   "outputs": [],
   "source": [
    "# total flights per year at all airports\n",
    "plt.rcParams['figure.figsize'] = [10,5]\n",
    "avg_yearly_total = avg_yearly_airports.groupby(['INCIDENT_YEAR']).agg({'Total': 'sum'}).reset_index()\n",
    "sns.lineplot(data=avg_yearly_total, x='INCIDENT_YEAR', y='Total')\n",
    "plt.xlabel('Year')\n",
    "plt.ylabel('Total Flights')\n",
    "plt.title(f'Total Flights by Year at All Airports')\n"
   ]
  },
  {
   "cell_type": "code",
   "execution_count": null,
   "metadata": {},
   "outputs": [],
   "source": [
    "# total flights per year at top airports\n",
    "plt.rcParams['figure.figsize'] = [10,5]\n",
    "# line plot, smooth line, with error bands, aspect ratio 2\n",
    "sns.lineplot(data=avg_yearly_airports, x='INCIDENT_YEAR', y='Total', hue='AIRPORT_ID') \n",
    "plt.xlabel('Year')\n",
    "plt.ylabel('Total Flights')\n",
    "plt.title(f'Total Flights per Year at Top {n} Airports by Incident Count')\n",
    "plt.show()\n"
   ]
  },
  {
   "cell_type": "code",
   "execution_count": null,
   "metadata": {
    "collapsed": false
   },
   "outputs": [],
   "source": [
    "# year\n",
    "sns.displot(df_airports, x='INCIDENT_YEAR', hue='AIRPORT_ID', kind='hist', fill=True, aspect=2)\n",
    "plt.xlabel('Year')\n",
    "plt.ylabel('Density')\n",
    "# make xticks every year\n",
    "plt.xticks(np.arange(2012, 2023, 1))\n",
    "# center bars on xticks\n",
    "plt.title(f'Incidents by Year at Top {n} Airports')\n",
    "plt.show()"
   ]
  },
  {
   "cell_type": "code",
   "execution_count": null,
   "metadata": {},
   "outputs": [],
   "source": [
    "avg_monthly_airports.head()"
   ]
  },
  {
   "cell_type": "code",
   "execution_count": null,
   "metadata": {},
   "outputs": [],
   "source": [
    "# monthly flights at top airports, histogram\n",
    "sns.barplot(data=avg_monthly_airports, x='MONTH', y='TOTAL_MONTHLY', hue='AIRPORT_ID')\n",
    "plt.xlabel('Month')\n",
    "plt.ylabel('Total Flights')\n",
    "plt.title(f'Total Flights per Month at Top {n} Airports by Incident Count')\n",
    "plt.show()"
   ]
  },
  {
   "cell_type": "code",
   "execution_count": null,
   "metadata": {},
   "outputs": [],
   "source": [
    "# monthly flights at top airports\n",
    "plt.rcParams['figure.figsize'] = [10,5]\n",
    "# plot avg_monthly_airports, month on x axis, total flights on y axis, hue by airport\n",
    "sns.lineplot(data=avg_monthly_airports, x='MONTH', y='TOTAL_MONTHLY', hue='AIRPORT_ID')\n",
    "plt.xlabel('Month')\n",
    "plt.ylabel('Total Flights')\n",
    "plt.title(f'Total Flights per Month at Top {n} Airports')\n",
    "plt.show()"
   ]
  },
  {
   "cell_type": "code",
   "execution_count": null,
   "metadata": {},
   "outputs": [],
   "source": [
    "df_airports.columns"
   ]
  },
  {
   "cell_type": "code",
   "execution_count": null,
   "metadata": {
    "collapsed": false
   },
   "outputs": [],
   "source": [
    "# month\n",
    "sns.displot(df_airports, x='MONTH', hue='AIRPORT_ID', kind='kde', fill=True, aspect=2)\n",
    "plt.xlabel('Month')\n",
    "plt.ylabel('Density')\n",
    "# show xticks every month\n",
    "plt.title(f'Incidents by Month at Top {n} Airports')\n",
    "plt.show()"
   ]
  },
  {
   "cell_type": "code",
   "execution_count": null,
   "metadata": {
    "collapsed": false
   },
   "outputs": [],
   "source": [
    "\n",
    "# speed\n",
    "sns.displot(df_airports, x='SKY', hue='AIRPORT_ID', kind='hist', fill=True, aspect=2)\n",
    "plt.xlabel('Sky')\n",
    "plt.ylabel('Density')\n",
    "plt.title(f'Incidents by Sky at Top {n} Airports')\n",
    "plt.show()"
   ]
  },
  {
   "cell_type": "code",
   "execution_count": null,
   "metadata": {
    "collapsed": false
   },
   "outputs": [],
   "source": [
    "\n",
    "# altitude\n",
    "sns.displot(df_airports, x='HEIGHT', hue='AIRPORT_ID', kind='kde', fill=True, aspect=2)\n",
    "plt.xlabel('Altitude (Feet)')\n",
    "plt.ylabel('Density')\n",
    "plt.title(f'Incidents by Altitude at Top {n} Airports')\n",
    "plt.show()"
   ]
  },
  {
   "cell_type": "code",
   "execution_count": null,
   "metadata": {
    "collapsed": false
   },
   "outputs": [],
   "source": [
    "# PHASE_OF_FLIGHT\n",
    "sns.displot(df_airports, x='PHASE_OF_FLIGHT', hue='AIRPORT_ID', kind='hist', fill=True, aspect=2)\n",
    "plt.xlabel('Phase of Flight')\n",
    "plt.ylabel('Density')\n",
    "plt.title(f'Incidents by Phase of Flight at Top {n} Airports')\n",
    "plt.show()"
   ]
  },
  {
   "cell_type": "code",
   "execution_count": null,
   "metadata": {},
   "outputs": [],
   "source": [
    "# AC_MASS\n",
    "sns.displot(df_airports, x='AC_MASS', hue='AIRPORT_ID', kind='hist', fill=True, aspect=2)\n",
    "plt.xlabel('Aircraft Mass (Pounds)')\n",
    "plt.ylabel('Number of Incidents')\n",
    "plt.title(f'Incidents by Aircraft Mass at Top {n} Airports')\n",
    "plt.show()"
   ]
  },
  {
   "cell_type": "code",
   "execution_count": null,
   "metadata": {
    "collapsed": false
   },
   "outputs": [],
   "source": [
    "# TYPE_ENG\n",
    "sns.displot(df_airports, x='TYPE_ENG', hue='AIRPORT_ID', kind='hist', fill=True, aspect=2)\n",
    "plt.xlabel('Engine Type')\n",
    "plt.ylabel('Number of Incidents')\n",
    "plt.title(f'Incidents by Engine Type at Top {n} Airports')\n",
    "plt.show()"
   ]
  },
  {
   "cell_type": "code",
   "execution_count": null,
   "metadata": {
    "collapsed": false
   },
   "outputs": [],
   "source": [
    "# height and speed\n",
    "sns.displot(df_airports, x='SPEED', y='HEIGHT',  kind='kde', fill=True, aspect=2)\n",
    "# sns.histplot(df_airports, x='SPEED', y='HEIGHT', hue='AIRPORT_ID', bins=20, pthresh=.1, cmap='mako')\n",
    "plt.xlabel('Speed (Knots)')\n",
    "plt.ylabel('Altitude (Feet)')\n",
    "plt.title(f'Incidents by Speed and Altitude at Top {n} Airports')\n",
    "plt.show()\n"
   ]
  },
  {
   "cell_type": "code",
   "execution_count": null,
   "metadata": {
    "collapsed": false
   },
   "outputs": [],
   "source": [
    "# precipitation\n",
    "sns.displot(df_airports, x='PRECIPITATION', hue='AIRPORT_ID', kind='hist', fill=True, aspect=2)\n",
    "plt.xlabel('Precipitation (Inches)')\n",
    "plt.ylabel('Number of Incidents')\n",
    "plt.title(f'Incidents by Precipitation at Top {n} Airports')\n",
    "plt.show()\n",
    "\n",
    "# all airports\n",
    "sns.displot(df, x='PRECIPITATION',kind='hist', fill=True, aspect=2)\n",
    "plt.xlabel('Precipitation (Inches)')\n",
    "plt.ylabel('Number of Incidents')\n",
    "plt.title(f'Incidents by Precipitation at All Airports')\n",
    "plt.show()"
   ]
  },
  {
   "cell_type": "code",
   "execution_count": null,
   "metadata": {
    "collapsed": false
   },
   "outputs": [],
   "source": [
    "# EFFECT\n",
    "sns.displot(df_airports, x='EFFECT', hue='AIRPORT_ID', kind='hist', fill=True, aspect=2)\n",
    "plt.xlabel('Effect')\n",
    "plt.ylabel('Number of Incidents')\n",
    "plt.xticks(rotation=45)\n",
    "plt.title(f'Incidents by Effect at Top {n} Airports')\n",
    "plt.show()"
   ]
  },
  {
   "cell_type": "code",
   "execution_count": null,
   "metadata": {
    "collapsed": false
   },
   "outputs": [],
   "source": [
    "# drop rows with no effect\n",
    "df_airports_effected = df_airports[df_airports.EFFECT != 'None']\n",
    "sns.displot(df_airports_effected, x='EFFECT', hue='AIRPORT_ID', kind='hist', fill=True, aspect=2)\n",
    "plt.xlabel('Effect')\n",
    "plt.ylabel('Number of Incidents')\n",
    "plt.xticks(rotation=45)\n",
    "plt.title(f'Incidents by Effect at Top {n} Airports')\n",
    "plt.show()\n"
   ]
  },
  {
   "cell_type": "code",
   "execution_count": null,
   "metadata": {
    "collapsed": false
   },
   "outputs": [],
   "source": [
    "\n",
    "sns.displot(df_airports_effected, x='SKY', hue='EFFECT', kind='hist', fill=True, aspect=2)\n",
    "\n"
   ]
  },
  {
   "cell_type": "code",
   "execution_count": null,
   "metadata": {
    "collapsed": false
   },
   "outputs": [],
   "source": [
    "sns.displot(df_airports_effected, x='PRECIPITATION', hue='EFFECT', kind='hist', fill=True, aspect=2)\n"
   ]
  },
  {
   "cell_type": "code",
   "execution_count": null,
   "metadata": {
    "collapsed": false
   },
   "outputs": [],
   "source": [
    "sns.displot(df_airports_effected, x='EFFECT', hue='WARNED', kind='hist', fill=True, aspect=2)\n",
    "plt.xticks(rotation=45)"
   ]
  },
  {
   "cell_type": "code",
   "execution_count": null,
   "metadata": {
    "collapsed": false
   },
   "outputs": [],
   "source": [
    "# ALL_RESULT, 10 most common\n",
    "df_effected = df[df.EFFECT != 'None']\n",
    "\n",
    "df_airports_effected_result = df_effected[df_effected.ALL_RESULT != 'None']\n",
    "df_airports_effected_result = df_airports_effected_result[df_airports_effected_result.ALL_RESULT != 'Struck Other']\n",
    "idx = df_airports_effected_result.ALL_RESULT.value_counts().head(10).index\n",
    "sns.displot(df_airports_effected_result.loc[df_airports_effected_result.ALL_RESULT.isin(idx)], x='ALL_RESULT', hue='EFFECT', kind='hist', fill=True, aspect=2)\n",
    "plt.xticks(rotation=45)\n",
    "plt.xlabel('Result')\n",
    "plt.ylabel('Number of Incidents')\n",
    "plt.title(f'Incidents by Result at Top {n} Airports, only incidents with an effect')\n"
   ]
  },
  {
   "cell_type": "code",
   "execution_count": null,
   "metadata": {
    "collapsed": false
   },
   "outputs": [],
   "source": [
    "df_damaged = df[df.DAMAGE != 'None']\n",
    "\n",
    "# damage level by phase of flight\n",
    "sns.displot(df_damaged, x='PHASE_OF_FLIGHT', hue='DAMAGE', kind='hist', fill=True, aspect=2)\n",
    "plt.xticks(rotation=45)\n",
    "plt.xlabel('Phase of Flight')\n",
    "plt.ylabel('Number of Incidents')\n",
    "plt.title(f'Incidents by Phase of Flight at Top {n} Airports, only incidents with damage')\n",
    "plt.show()"
   ]
  },
  {
   "cell_type": "code",
   "execution_count": null,
   "metadata": {},
   "outputs": [],
   "source": []
  },
  {
   "cell_type": "code",
   "execution_count": null,
   "metadata": {},
   "outputs": [],
   "source": [
    "df_airports.head()"
   ]
  },
  {
   "attachments": {},
   "cell_type": "markdown",
   "metadata": {
    "collapsed": false
   },
   "source": [
    "# Stat Analysis \n"
   ]
  },
  {
   "attachments": {},
   "cell_type": "markdown",
   "metadata": {},
   "source": [
    "**Tests:**\n",
    "- Is the proportion of incidents that occur at the top 3 airports significantly different from the proportion of flights that occur at the top 3 airports?\n",
    "  - Result: The proportion of incidents that occur at the top 3 airports is significantly different from the proportion of flights that occur at the top 3 airports at the 0.05 level.\n",
    "- Is the proportion of incidents that occur during the months 5, 6, 7 at denver airport significantly different from the proportion of flights that occur during the months 5, 6, 7 at denver airport?\n",
    "- Is the proportion of incidents that occur during each month at the top 3 airports singificantly different from the proportion of flights that occur during each month at the top 3 airports?\n",
    "\n",
    "- Is the proportion of incidents that occur during Landing at Denver airport significantly different from the proportion of incidents that occur during Landing on average?\n",
    "\n",
    "- Is the proportion of incidents that occur during Approach at DFW airport significantly different from the proportion of incidents that occur during Approach on average?\n",
    "- Is the proportion of incidents that occur during Take-off at Denver airport significantly different from the proportion of incidents that occur during Take-off on average?\n",
    "- Is the proportion of incidents that occur at low altitude at Denver airport significantly different from the proportion of incidents that occur at low altitude on average?\n",
    "- Is the proportion of incidents that occur with aircraft between 27,0001 and 272,000 kg at Denver airport significantly different from the proportion of incidents that occur with aircraft between 27,0001 and 272,000 kg on average?"
   ]
  },
  {
   "attachments": {},
   "cell_type": "markdown",
   "metadata": {},
   "source": [
    "### Is the proportion of incidents that occur at the top 3 airports significantly different from the proportion of flights that occur at the top 3 airports?"
   ]
  },
  {
   "cell_type": "code",
   "execution_count": null,
   "metadata": {},
   "outputs": [],
   "source": [
    "# Chi-Square test for homogeneity. \n",
    "\n",
    "# H0: The proportion of incidents that occur at the top 3 airports is the same as the proportion of flights that occur at the top 3 airports.\n",
    "# H1: The proportion of incidents that occur at the top 3 airports is not the same as the proportion of flights that occur at the top 3 airports.\n",
    "\n",
    "\n",
    "# top_airports: list of top 3 airports\n",
    "# flights_all_yearly where AIRPORT_ID is in top_airports\n",
    "\n",
    "flights_chi2 = flights_all_yearly[flights_all_yearly.AIRPORT_ID.isin(top_airports)]\n",
    "flights_chi2 = flights_chi2.groupby('AIRPORT_ID').sum().reset_index()\n",
    "flights_chi2 = flights_chi2[['AIRPORT_ID', 'Total']]\n",
    "flights_chi2.columns = ['AIRPORT_ID', 'FLIGHTS']\n",
    "flights_chi2.head()\n",
    "\n",
    "# make AIRPORT_ID 'Other' for all airports not in top_airports\n",
    "other_amount = flights_all_yearly[flights_all_yearly.AIRPORT_ID.isin(top_airports) == False].sum().Total\n",
    "\n",
    "flights_chi2.loc[len(flights_chi2.index)] = ['Other', other_amount]\n",
    "flights_chi2.head()\n"
   ]
  },
  {
   "cell_type": "code",
   "execution_count": null,
   "metadata": {},
   "outputs": [],
   "source": [
    "\n",
    "# incidents_chi2: incidents at top_airports\n",
    "df_airports['INCIDENTS'] = 1\n",
    "incidents_chi2 = df_airports.groupby('AIRPORT_ID').sum().reset_index()\n",
    "incidents_chi2 = incidents_chi2[['AIRPORT_ID', 'INCIDENTS']]\n",
    "incidents_chi2.head()\n",
    "\n",
    "other_incident_amount = df[df.AIRPORT_ID.isin(top_airports) == False].shape[0]\n",
    "incidents_chi2.loc[len(incidents_chi2.index)] = ['Other', other_incident_amount]\n",
    "incidents_chi2.head()\n"
   ]
  },
  {
   "cell_type": "code",
   "execution_count": null,
   "metadata": {},
   "outputs": [],
   "source": [
    "# make 2 way chi-square table\n",
    "incidents_chi2\n",
    "\n",
    "incidents = incidents_chi2.INCIDENTS.to_list()\n",
    "flights = flights_chi2.FLIGHTS.to_list()\n",
    "obs = np.array([incidents, flights])"
   ]
  },
  {
   "cell_type": "code",
   "execution_count": null,
   "metadata": {},
   "outputs": [],
   "source": [
    "statistic, pvalue, dof, expected_freq = stats.chi2_contingency(obs)\n",
    "# statistic: chi-square statistic\n",
    "# pvalue: p-value\n",
    "# dof: degrees of freedom\n",
    "# expected_freq: expected frequencies\n",
    "\n",
    "print(f'Chi-Square statistic: {statistic}')\n",
    "print(f'p-value: {pvalue}')\n",
    "print(f'Degrees of Freedom: {dof}')\n",
    "print(f'Expected Frequencies: {expected_freq}')\n",
    "\n",
    "if pvalue < 0.05:\n",
    "    print('Reject the null hypothesis at the 0.05 significance level. (pvalue < 0.05)')\n",
    "    print('The proportion of incidents that occur at the top 3 airports is not the same as the proportion of flights that occur at the top 3 airports.')\n",
    "\n"
   ]
  },
  {
   "attachments": {},
   "cell_type": "markdown",
   "metadata": {},
   "source": [
    "### Is the proportion of incidents that occur during the months 5, 6, 7 at denver airport significantly different from the proportion of flights that occur during the months 5, 6, 7 at denver airport?"
   ]
  },
  {
   "cell_type": "code",
   "execution_count": null,
   "metadata": {},
   "outputs": [],
   "source": [
    "# H0: The proportion of incidents that occur at the top 3 airports is the same as the proportion of flights that occur at the top 3 airports.\n",
    "# H1: The proportion of incidents that occur at the top 3 airports is not the same as the proportion of flights that occur at the top 3 airports.\n",
    "\n",
    "flights_chi2_2 = flights_all_monthly[flights_all_monthly.AIRPORT_ID.isin(top_airports)]\n",
    "flights_chi2_2 = flights_chi2_2.groupby(['AIRPORT_ID', 'MONTH']).sum().reset_index()\n",
    "flights_chi2_2 = flights_chi2_2[['AIRPORT_ID', 'MONTH', 'TOTAL_MONTHLY']]\n"
   ]
  },
  {
   "cell_type": "code",
   "execution_count": null,
   "metadata": {},
   "outputs": [],
   "source": [
    "other_amount_monthly = flights_all_monthly[flights_all_monthly.AIRPORT_ID.isin(top_airports) == False].groupby('MONTH').sum().reset_index()\n",
    "\n",
    "other_amount_monthly['AIRPORT_ID'] = 'Other'\n",
    "other_amount_monthly = other_amount_monthly[['AIRPORT_ID', 'MONTH', 'TOTAL_MONTHLY']]\n",
    "\n",
    "flights_chi2_2 = flights_chi2_2.append(other_amount_monthly)"
   ]
  },
  {
   "cell_type": "code",
   "execution_count": null,
   "metadata": {},
   "outputs": [],
   "source": [
    "incidents_chi2_2 = df_airports.groupby(['AIRPORT_ID', 'MONTH']).sum().reset_index()\n",
    "incidents_chi2_2 = incidents_chi2_2[['AIRPORT_ID', 'MONTH', 'INCIDENTS']]\n",
    "\n",
    "other_incident_amount_monthly = []\n",
    "for i in range(12):\n",
    "    count = df[(df.AIRPORT_ID.isin(top_airports) == False) & (df.MONTH == i+1)].shape[0]\n",
    "    other_incident_amount_monthly.append(count)\n",
    "    "
   ]
  },
  {
   "cell_type": "code",
   "execution_count": null,
   "metadata": {},
   "outputs": [],
   "source": [
    "other_incident_amount_monthly = pd.DataFrame({'AIRPORT_ID': ['Other']*12, 'MONTH': range(1,13), 'INCIDENTS': other_incident_amount_monthly})\n",
    "other_incident_amount_monthly = incidents_chi2_2.append(other_incident_amount_monthly)"
   ]
  },
  {
   "cell_type": "code",
   "execution_count": null,
   "metadata": {},
   "outputs": [],
   "source": [
    "other_incident_amount_monthly['IS_SUMMER'] = other_incident_amount_monthly.MONTH.isin([5,6,7]) # months May, June, July\n",
    "flights_chi2_2['IS_SUMMER'] = flights_chi2_2.MONTH.isin([5,6,7]) # months May, June, July\n",
    "\n",
    "other_incident_amount_monthly.IS_SUMMER = other_incident_amount_monthly.IS_SUMMER.astype(int)\n",
    "flights_chi2_2.IS_SUMMER = flights_chi2_2.IS_SUMMER.astype(int)"
   ]
  },
  {
   "cell_type": "code",
   "execution_count": null,
   "metadata": {},
   "outputs": [],
   "source": [
    "incidents_chi2_2 = other_incident_amount_monthly"
   ]
  },
  {
   "cell_type": "code",
   "execution_count": null,
   "metadata": {},
   "outputs": [],
   "source": [
    "# reset index for both dataframes\n",
    "flights_chi2_2 = flights_chi2_2.reset_index()\n",
    "incidents_chi2_2 = incidents_chi2_2.reset_index()\n",
    "flights_chi2_2 = flights_chi2_2[['AIRPORT_ID', 'MONTH', 'TOTAL_MONTHLY']]\n",
    "incidents_chi2_2 = incidents_chi2_2[['AIRPORT_ID', 'MONTH', 'INCIDENTS', 'IS_SUMMER']]"
   ]
  },
  {
   "cell_type": "code",
   "execution_count": null,
   "metadata": {},
   "outputs": [],
   "source": [
    "table2 = incidents_chi2_2.groupby(['AIRPORT_ID', 'IS_SUMMER']).sum().reset_index()\n",
    "table2 = table2[['AIRPORT_ID', 'IS_SUMMER', 'INCIDENTS']]\n"
   ]
  },
  {
   "cell_type": "code",
   "execution_count": null,
   "metadata": {},
   "outputs": [],
   "source": [
    "top_airports"
   ]
  },
  {
   "cell_type": "code",
   "execution_count": null,
   "metadata": {},
   "outputs": [],
   "source": [
    "den_incidents = incidents_chi2_2[incidents_chi2_2.AIRPORT_ID == 'DEN'].INCIDENTS.to_list()\n",
    "dfw_incidents = incidents_chi2_2[incidents_chi2_2.AIRPORT_ID == 'DFW'].INCIDENTS.to_list()\n",
    "clt_incidents = incidents_chi2_2[incidents_chi2_2.AIRPORT_ID == 'CLT'].INCIDENTS.to_list()\n",
    "ord_incidents = incidents_chi2_2[incidents_chi2_2.AIRPORT_ID == 'ORD'].INCIDENTS.to_list()\n",
    "iah_incidents = incidents_chi2_2[incidents_chi2_2.AIRPORT_ID == 'IAH'].INCIDENTS.to_list()\n",
    "other_incidents = incidents_chi2_2[incidents_chi2_2.AIRPORT_ID == 'Other'].INCIDENTS.to_list()\n",
    "\n",
    "print(f'DEN incidents: {den_incidents}')\n",
    "print(f'DFW incidents: {dfw_incidents}')\n",
    "print(f'CLT incidents: {clt_incidents}')\n",
    "print(f'ORD incidents: {ord_incidents}')\n",
    "print(f'IAH incidents: {iah_incidents}')\n",
    "print(f'Other incidents: {other_incidents}')\n",
    "\n"
   ]
  },
  {
   "cell_type": "code",
   "execution_count": null,
   "metadata": {},
   "outputs": [],
   "source": [
    "statistic, pvalue, dof, expected_freq = stats.chi2_contingency([den_incidents, dfw_incidents, ord_incidents, other_incidents])\n",
    "print(f'Chi-Square statistic: {statistic}')\n",
    "print(f'p-value: {pvalue}')\n",
    "print(f'Degrees of Freedom: {dof}')\n",
    "print(f'Expected Frequencies: {expected_freq}')\n",
    "\n",
    "if pvalue < 0.05:\n",
    "    print('Reject the null hypothesis at the 0.05 significance level. (pvalue < 0.05)')\n",
    "    print('The proportion of incidents that occur at the top 3 airports during May, June, and July is not the same as the proportion of incidents that occur at the top 3 airports during the other months.')"
   ]
  },
  {
   "attachments": {},
   "cell_type": "markdown",
   "metadata": {},
   "source": [
    "### Is the proportion of incidents that occur during May, June, July at Denver airport significantly different from the proportion of incidents that occur during May, June, July at the top 3 airports?\n"
   ]
  },
  {
   "cell_type": "code",
   "execution_count": null,
   "metadata": {},
   "outputs": [],
   "source": [
    "# make df where each row is a combination of airport_id and is_summer\n",
    "\n",
    "temp = pd.DataFrame()\n",
    "for i in range(len(incidents_chi2_2)):\n",
    "    airport_id = incidents_chi2_2.iloc[i].AIRPORT_ID\n",
    "    if airport_id == 'Other':\n",
    "        continue\n",
    "    is_summer = incidents_chi2_2.iloc[i].IS_SUMMER\n",
    "    incidents = incidents_chi2_2.iloc[i].INCIDENTS\n",
    "    identifier = airport_id + '_SUMMER' if is_summer == 1 else airport_id + '_NOT_SUMMER' \n",
    "    arr = [identifier, incidents]\n",
    "    temp = temp.append(pd.DataFrame(arr).T)\n"
   ]
  },
  {
   "cell_type": "code",
   "execution_count": null,
   "metadata": {},
   "outputs": [],
   "source": []
  },
  {
   "cell_type": "code",
   "execution_count": null,
   "metadata": {},
   "outputs": [],
   "source": [
    "# rename columns\n",
    "temp.columns = ['IDENTIFIER', 'INCIDENTS']\n"
   ]
  },
  {
   "cell_type": "code",
   "execution_count": null,
   "metadata": {},
   "outputs": [],
   "source": [
    "temp.head(100)"
   ]
  },
  {
   "cell_type": "code",
   "execution_count": null,
   "metadata": {},
   "outputs": [],
   "source": [
    "temp.INCIDENTS = temp.INCIDENTS.astype(int)\n",
    "temp.IDENTIFIER = temp.IDENTIFIER.astype(str)\n",
    "tukey = pairwise_tukeyhsd(temp.INCIDENTS, temp.IDENTIFIER, alpha=0.05)\n",
    "print(tukey)"
   ]
  },
  {
   "cell_type": "code",
   "execution_count": null,
   "metadata": {},
   "outputs": [],
   "source": [
    "temp.head()"
   ]
  },
  {
   "cell_type": "code",
   "execution_count": null,
   "metadata": {},
   "outputs": [],
   "source": [
    "df.PHASE_OF_FLIGHT.unique()"
   ]
  },
  {
   "attachments": {},
   "cell_type": "markdown",
   "metadata": {},
   "source": [
    "### Is the proportion of incidents that occur during Landing, Approach, and Take-off at the top 5 airports significantly different from the proportion of incidents that occur in other phases of flight?"
   ]
  },
  {
   "cell_type": "code",
   "execution_count": null,
   "metadata": {},
   "outputs": [],
   "source": [
    "# H0: The proportion of incidents that occur during Landing, Approach, and Takeoff is the same as the proportion of incidents that occur during other phases of flight.\n",
    "# H1: The proportion of incidents that occur during Landing, Approach, and Takeoff is not the same as the proportion of incidents that occur during other phases of flight.\n",
    "# \n",
    "# alpha = 0.05\n",
    "# \n",
    "\n",
    "incidents_phases = {'Landing Roll': 0, 'Approach': 0, 'Take-off Run': 0, 'Other': 0}\n",
    "chosen = ['Landing Roll', 'Approach', 'Take-off Run']\n",
    "\n",
    "\n",
    "for i in range(len(df)):\n",
    "    phase = df.iloc[i].PHASE_OF_FLIGHT\n",
    "    if phase in chosen:\n",
    "        incidents_phases[phase] += 1\n",
    "    else:\n",
    "        incidents_phases['Other'] += 1\n",
    "\n"
   ]
  },
  {
   "cell_type": "code",
   "execution_count": null,
   "metadata": {},
   "outputs": [],
   "source": [
    "\n",
    "vals = list(incidents_phases.values())\n",
    "result = stats.chisquare(vals)\n"
   ]
  },
  {
   "cell_type": "code",
   "execution_count": null,
   "metadata": {},
   "outputs": [],
   "source": [
    "tukey = pairwise_tukeyhsd(df.INCIDENT, df.PHASE_OF_FLIGHT, alpha=0.05)\n"
   ]
  },
  {
   "cell_type": "code",
   "execution_count": null,
   "metadata": {},
   "outputs": [],
   "source": [
    "print(f'Chi-Square statistic: {result.statistic}')\n",
    "print(f'p-value: {result.pvalue}')\n",
    "if result.pvalue < 0.05:\n",
    "    print('Reject the null hypothesis at the 0.05 significance level. (pvalue < 0.05)')\n",
    "    print('The proportion of incidents that occur during Landing, Approach, and Takeoff is not the same as the proportion of incidents that occur during other phases of flight.')\n",
    "    "
   ]
  },
  {
   "attachments": {},
   "cell_type": "markdown",
   "metadata": {},
   "source": [
    "### Is the proportion of incidents that occur during the \"summer months\" greater than the proportion of incidents that occur during other months at all airports?\n",
    "\n"
   ]
  },
  {
   "cell_type": "code",
   "execution_count": null,
   "metadata": {},
   "outputs": [],
   "source": [
    "incidents_monthly = {'Summer' : 0, 'Other' : 0}\n",
    "for i in range(len(df)):\n",
    "    month = df.iloc[i].MONTH\n",
    "    if month in [5,6,7]:\n",
    "        incidents_monthly['Summer'] += 1\n",
    "    else:\n",
    "        incidents_monthly['Other'] += 1\n",
    "\n",
    "vals = list(incidents_monthly.values())\n",
    "result = stats.chisquare(vals)\n",
    "\n",
    "print(f'Chi-Square statistic: {result.statistic}')\n",
    "print(f'p-value: {result.pvalue}')\n",
    "# if result.pvalue < 0.05:\n",
    "\n"
   ]
  },
  {
   "cell_type": "code",
   "execution_count": null,
   "metadata": {},
   "outputs": [],
   "source": [
    "df.columns"
   ]
  },
  {
   "attachments": {},
   "cell_type": "markdown",
   "metadata": {},
   "source": [
    "### Is the proportion of incidents resulting in injury or death in small airplanes significantly different from the proportion of incidents resulting in injury or death in other aircraft types?\n"
   ]
  },
  {
   "cell_type": "code",
   "execution_count": null,
   "metadata": {},
   "outputs": [],
   "source": [
    "df.NR_INJURIES.isna"
   ]
  },
  {
   "cell_type": "code",
   "execution_count": null,
   "metadata": {},
   "outputs": [],
   "source": [
    "non_injury = df[df.NR_INJURIES.isna()]\n",
    "non_death = df[df.NR_FATALITIES.isna()]\n",
    "death_incidents = df[df.NR_FATALITIES > 0]\n",
    "injury_incidents = df[df.NR_INJURIES > 0]\n",
    "\n",
    "df['NON_INJURY'] = df.NR_INJURIES.isna().astype(int)\n",
    "df['NON_DEATH'] = df.NR_FATALITIES.isna().astype(int)\n",
    "\n",
    "\n",
    "df['INJURY'] = df.NR_INJURIES.notna().astype(int)\n",
    "df['DEATH'] = df.NR_FATALITIES.notna().astype(int)\n",
    "\n",
    "# 'Death' if DEATH == 1 else 'Injury' if INJURY == 1 else 'Non-Injury' if NON_INJURY == 1 else 'Non-Death' if NON_DEATH == 1 else 'Unknown'\n",
    "df['INJURY_DEATH_STATUS'] = df.apply(lambda x: 'Death' if x.DEATH == 1 else 'Injury' if x.INJURY == 1 else 'Non-Injury' if x.NON_INJURY == 1 else 'Non-Death' if x.NON_DEATH == 1 else 'None', axis=1)\n",
    "\n",
    "\n"
   ]
  },
  {
   "cell_type": "code",
   "execution_count": null,
   "metadata": {},
   "outputs": [],
   "source": [
    "# add column called 'INCIDENT' == 1 for all rows\n",
    "df['INCIDENT'] = 1\n",
    "df.head()"
   ]
  },
  {
   "cell_type": "code",
   "execution_count": null,
   "metadata": {},
   "outputs": [],
   "source": [
    "df_injury = df.groupby(['AC_MASS', 'INJURY_DEATH_STATUS']).INCIDENT.sum().reset_index()\n"
   ]
  },
  {
   "cell_type": "code",
   "execution_count": null,
   "metadata": {},
   "outputs": [],
   "source": [
    "df_injury.head(20)"
   ]
  },
  {
   "cell_type": "code",
   "execution_count": null,
   "metadata": {},
   "outputs": [],
   "source": [
    "# tukey parwise hsd\n",
    "# response variable: \n",
    "\n",
    "\n",
    "# make df where each row is a combination of AC_MASS and INJURY_DEATH_STATUS\n",
    "\n",
    "temp2 = pd.DataFrame()\n",
    "\n",
    "temp2 = pd.DataFrame()\n",
    "for i in range(len(df_injury)):\n",
    "    ac_mass = df_injury.iloc[i].AC_MASS\n",
    "    injury_death_status = df_injury.iloc[i].INJURY_DEATH_STATUS\n",
    "    incidents = df_injury.iloc[i].INCIDENT\n",
    "    identifier = ac_mass + '_' + injury_death_status\n",
    "    arr = [identifier, incidents]\n",
    "    temp2 = temp2.append(pd.DataFrame(arr).T)\n",
    "\n",
    "# rename columns\n",
    "temp2.columns = ['IDENTIFIER', 'INCIDENTS']\n",
    "\n"
   ]
  },
  {
   "cell_type": "code",
   "execution_count": null,
   "metadata": {},
   "outputs": [],
   "source": []
  },
  {
   "cell_type": "code",
   "execution_count": null,
   "metadata": {},
   "outputs": [],
   "source": [
    "temp2.INCIDENTS = temp2.INCIDENTS.astype(int)\n",
    "temp2.IDENTIFIER = temp2.IDENTIFIER.astype(str)\n",
    "# reset index\n",
    "temp2 = temp2.reset_index(drop=True)\n",
    "temp2.head(100)\n"
   ]
  },
  {
   "cell_type": "code",
   "execution_count": null,
   "metadata": {},
   "outputs": [],
   "source": [
    "# chi-square test\n",
    "print(pairwise_tukeyhsd(temp2.INCIDENTS, temp2.IDENTIFIER, alpha=0.05))\n"
   ]
  },
  {
   "cell_type": "code",
   "execution_count": null,
   "metadata": {},
   "outputs": [],
   "source": []
  },
  {
   "cell_type": "code",
   "execution_count": null,
   "metadata": {},
   "outputs": [],
   "source": [
    "\n",
    "# plto the distribution of non-injury incidents\n",
    "plt.figure(figsize=(5,5))\n",
    "non_injury.AC_MASS.value_counts().plot(kind='bar')\n",
    "plt.title('Distribution of Non-Injury Incidents')\n",
    "plt.xlabel('Aircraft Mass')\n",
    "plt.ylabel('Number of Incidents')\n",
    "plt.show()\n",
    "\n",
    "# plot the distribution of non-death incidents\n",
    "plt.figure(figsize=(5,5))\n",
    "non_death.AC_MASS.value_counts().plot(kind='bar')\n",
    "plt.title('Distribution of Non-Death Incidents')\n",
    "plt.xlabel('Aircraft Mass')\n",
    "plt.ylabel('Number of Incidents')\n",
    "plt.show()\n"
   ]
  },
  {
   "cell_type": "code",
   "execution_count": null,
   "metadata": {},
   "outputs": [],
   "source": [
    "plt.figure(figsize=(5,5))\n",
    "death_incidents.AC_MASS.value_counts().plot(kind='bar')\n",
    "plt.xlabel('Aircraft Mass')\n",
    "plt.xticks(rotation=0)\n",
    "plt.ylabel('Number of Deaths')\n",
    "plt.title('Number of Deaths from Bird Strike by Aircraft Mass')\n",
    "plt.show()\n",
    "plt.figure(figsize=(5,5))\n",
    "injury_incidents.AC_MASS.value_counts().plot(kind='bar')\n",
    "plt.xlabel('Aircraft Mass')\n",
    "plt.xticks(rotation=30)\n",
    "plt.ylabel('Number of Injuries')\n",
    "plt.title('Number of Injuries from Bird Strike by Aircraft Mass')\n",
    "plt.show()"
   ]
  },
  {
   "attachments": {},
   "cell_type": "markdown",
   "metadata": {},
   "source": [
    "- Is the proportion of incidents that occur at the top 3 airports significantly different from the proportion of flights that occur at the top 3 airports?\n",
    "  - Result: The proportion of incidents that occur at the top 3 airports is significantly different from the proportion of flights that occur at the top 3 airports at the 0.05 level.\n",
    "- Is the proportion of incidents that occur during the months 5, 6, 7 at denver airport significantly different from the proportion of flights that occur during the months 5, 6, 7 at denver airport?\n",
    "  - Result: Significant\n",
    "- Is the proportion of incidents that occur during each month at the top 3 airports singificantly different from the proportion of flights that occur during each month at the top 3 airports?\n",
    " - Result: Significant\n",
    "- Is the proportion of incidents that occur during Landing at Denver airport significantly different from the proportion of incidents that occur during Landing on average?\n",
    "  - Result: \n",
    "- Is the proportion of incidents that occur during Approach at DFW airport significantly different from the proportion of incidents that occur during Approach on average?\n",
    "- Is the proportion of incidents that occur during Take-off at Denver airport significantly different from the proportion of incidents that occur during Take-off on average?\n",
    "\n",
    "\n",
    "- Is the proportion of incidents that occur at low altitude at Denver airport significantly different from the proportion of incidents that occur at low altitude on average?\n",
    "\n",
    "\n",
    "- Is the proportion of incidents that occur with aircraft between 27,0001 and 272,000 kg at Denver airport significantly different from the proportion of incidents that occur with aircraft between 27,0001 and 272,000 kg on average?"
   ]
  },
  {
   "cell_type": "code",
   "execution_count": null,
   "metadata": {},
   "outputs": [],
   "source": [
    "df.head()"
   ]
  },
  {
   "attachments": {},
   "cell_type": "markdown",
   "metadata": {},
   "source": [
    "## How has the rate of incidents changed over the past decade?\n",
    "\n"
   ]
  },
  {
   "cell_type": "code",
   "execution_count": null,
   "metadata": {},
   "outputs": [],
   "source": [
    "flights_per_year_2012_2019 = flights_all_yearly.groupby('INCIDENT_YEAR').Total.sum().tolist()\n",
    "\n",
    "sns.displot(df, x='INCIDENT_YEAR', kind='hist', aspect=2)"
   ]
  },
  {
   "cell_type": "code",
   "execution_count": null,
   "metadata": {},
   "outputs": [],
   "source": [
    "df['INCIDENT_YEAR'] = df.INCIDENT_DATE.dt.year\n",
    "years = [2012, 2013, 2014, 2015, 2016, 2017, 2018, 2019] \n"
   ]
  },
  {
   "cell_type": "code",
   "execution_count": null,
   "metadata": {},
   "outputs": [],
   "source": [
    "incidents_per_year_2012_2019 = df[df['INCIDENT_YEAR'].isin(years)].groupby('INCIDENT_YEAR').INCIDENT.sum().tolist()"
   ]
  },
  {
   "cell_type": "code",
   "execution_count": null,
   "metadata": {},
   "outputs": [],
   "source": [
    "incidents_per_year_2012_2019\n"
   ]
  },
  {
   "cell_type": "code",
   "execution_count": null,
   "metadata": {},
   "outputs": [],
   "source": [
    "ratio_incidentstoflights = [incidents_per_year_2012_2019[i]/flights_per_year_2012_2019[i] for i in range(len(flights_per_year_2012_2019))]\n"
   ]
  },
  {
   "cell_type": "code",
   "execution_count": null,
   "metadata": {},
   "outputs": [],
   "source": [
    "plt.plot(years, ratio_incidentstoflights)\n",
    "plt.xticks(years)\n",
    "plt.title('Ratio of Incidents to Flights')\n",
    "plt.xlabel('Year')\n",
    "plt.ylabel('Ratio of Incidents to Flights')\n",
    "plt.show()"
   ]
  },
  {
   "cell_type": "code",
   "execution_count": null,
   "metadata": {},
   "outputs": [],
   "source": [
    "# Stat test to determine if the rate of incidents has changed over the past decade\n",
    "# H0: The rate of incidents has not changed over the past decade\n",
    "# H1: The rate of incidents has changed over the past decade\n",
    "\n",
    "# use a chi-square test\n",
    "# if p-value < 0.05, reject H0\n",
    "\n",
    "# Chi-Square Assumptions:\n",
    "# 1. The data is independent\n",
    "# 2. Expected frequencies are at least 5, but this is not a problem here\n",
    "# 3. Samples are independent. Trivially true since we are comparing the same sample over time\n",
    "\n",
    "import statsmodels.stats.proportion as smp\n",
    "\n",
    "result = smp.proportions_chisquare(incidents_per_year_2012_2019, flights_per_year_2012_2019)\n",
    "chi2, p, arr = result\n",
    "print(f'Chi-Square statistic: {chi2}')\n",
    "print(f'p-value: {p}')\n",
    "\n",
    "if p < 0.05:\n",
    "    print('Reject H0')\n",
    "    print('The rate of incidents has changed over the past decade')\n",
    "    print('Sample Years:', years)\n",
    "    \n",
    "print('Contingeny Table')\n",
    "\n",
    "print(arr[0])\n",
    "\n",
    "print('Expected')\n",
    "print(arr[1])"
   ]
  },
  {
   "cell_type": "code",
   "execution_count": null,
   "metadata": {},
   "outputs": [],
   "source": []
  }
 ],
 "metadata": {
  "kernelspec": {
   "display_name": "pytorch-nightly",
   "language": "python",
   "name": "python3"
  },
  "language_info": {
   "codemirror_mode": {
    "name": "ipython",
    "version": 3
   },
   "file_extension": ".py",
   "mimetype": "text/x-python",
   "name": "python",
   "nbconvert_exporter": "python",
   "pygments_lexer": "ipython3",
   "version": "3.8.13"
  },
  "orig_nbformat": 4,
  "vscode": {
   "interpreter": {
    "hash": "dfa1a912acab427197be583ac387989daee475711c19389976a53aba583a25ae"
   }
  }
 },
 "nbformat": 4,
 "nbformat_minor": 2
}
